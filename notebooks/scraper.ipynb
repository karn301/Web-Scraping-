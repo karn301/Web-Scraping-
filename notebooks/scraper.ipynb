{
 "cells": [
  {
   "cell_type": "code",
   "execution_count": 132,
   "metadata": {},
   "outputs": [],
   "source": [
    "\n",
    "from urllib.request import urlopen\n",
    "import requests\n",
    "from bs4 import BeautifulSoup\n",
    "import re"
   ]
  },
  {
   "cell_type": "code",
   "execution_count": 133,
   "metadata": {},
   "outputs": [
    {
     "data": {
      "text/plain": [
       "'<!doctype html><html lang=\"en-in\" class=\"a-no-js\" data-19ax5a9jf=\"dingo\"><!-- sp:feature:head-start -->\\n<head><script>var aPageStart = (new Date()).getTime();</script><meta charset=\"utf-8\"/>\\n<!-- sp:e'"
      ]
     },
     "execution_count": 133,
     "metadata": {},
     "output_type": "execute_result"
    }
   ],
   "source": [
    "url =\"\"\"https://www.amazon.in/Crucial-3200MHz-2933MHz-2666MHz-CT8G4SFRA32A/dp/B08C4Z69LN/?_encoding=UTF8&pd_rd_w=asRZX&content-id=amzn1.sym.aff93425-4e25-4d86-babd-0fa9faf7ca5d%3Aamzn1.symc.36bd837a-d66d-47d1-8457-ffe9a9f3ddab&pf_rd_p=aff93425-4e25-4d86-babd-0fa9faf7ca5d&pf_rd_r=3S93CHJY45SQRCD4R7DC&pd_rd_wg=d59M2&pd_rd_r=ae6fcfa5-1b50-4c83-a0ee-f2a9eb1e8361&ref_=pd_gw_ci_mcx_mr_hp_atf_m&th=1\"\"\"\n",
    "\n",
    "# get url result html code here \n",
    "# page = requests.get(url)\n",
    "\n",
    "# testing demo site here\n",
    "page = open('index.html', 'r')\n",
    "\n",
    "# display the data\n",
    "page.read(200)"
   ]
  },
  {
   "cell_type": "code",
   "execution_count": 134,
   "metadata": {},
   "outputs": [],
   "source": [
    "soup = BeautifulSoup(page.read(), 'html.parser')\n",
    "frog = soup.text\n",
    "\n",
    "# get all the product details here\n",
    "\n",
    "# title here\n",
    "title = soup.find('span', id=\"productTitle\").text\n",
    "\n",
    "# For price\n",
    "price = str(soup.find(\"span\", class_='a-price-whole').text).replace(\".\", \"\")\n",
    "\n",
    "# Features here\n",
    "list_ =  soup.find(\"div\", id=\"feature-bullets\").find_all('li')\n",
    "features = [i.text for i in list_]\n",
    "\n",
    "def getTablesToObj():\n",
    "    obj_table = []\n",
    "    table = soup.find('table', class_=\"a-normal a-spacing-micro\")\n",
    "    rows = table.find_all(\"tr\")\n",
    "\n",
    "    for row in rows:\n",
    "        key = row.find_all(\"span\")[0].text\n",
    "        value = row.find_all(\"span\")[1].text\n",
    "\n",
    "        obj = {\n",
    "            key : value\n",
    "        }\n",
    "\n",
    "        obj_table.append(obj)\n",
    "    return obj_table\n",
    "\n",
    "\n",
    "# Get your table into object list here\n",
    "table = getTablesToObj()"
   ]
  },
  {
   "cell_type": "code",
   "execution_count": 136,
   "metadata": {},
   "outputs": [
    {
     "data": {
      "text/plain": [
       "'        Crucial RAM 8GB DDR4 3200MHz CL22 (or 2933MHz or 2666MHz) Laptop Memory CT8G4SFRA32A       '"
      ]
     },
     "execution_count": 136,
     "metadata": {},
     "output_type": "execute_result"
    }
   ],
   "source": [
    "title"
   ]
  },
  {
   "cell_type": "code",
   "execution_count": 137,
   "metadata": {},
   "outputs": [
    {
     "data": {
      "text/plain": [
       "'1,499'"
      ]
     },
     "execution_count": 137,
     "metadata": {},
     "output_type": "execute_result"
    }
   ],
   "source": [
    "price"
   ]
  },
  {
   "cell_type": "code",
   "execution_count": 138,
   "metadata": {},
   "outputs": [
    {
     "data": {
      "text/plain": [
       "[\" Improve your system's responsiveness, run apps faster and multitask with ease. Extended timings - 22-22-22  \",\n",
       " ' Install with ease; no computer skills required How-to guides available at Crucial  ',\n",
       " ' Compatibility assurance when using the Crucial System Scanner or Crucial Advisor Tool  ',\n",
       " ' Micron quality and reliability is backed by superior component and module level testing and 42 years of memory expertise  ',\n",
       " ' ECC Type Non-ECC, Form Factor SODIMM, Pin Count 260-pin, PC Speed PC4-25600, Voltage 12V, Rank and Configuration 1Rx16, 1Rx8 or 2Rx8.NOTE: DRAM modules require configuration to specific systems  ',\n",
       " \" Improve your system's responsiveness, run apps faster and multitask with ease. Extended timings - 22-22-22  \",\n",
       " ' Install with ease; no computer skills required How-to guides available at Crucial  ']"
      ]
     },
     "execution_count": 138,
     "metadata": {},
     "output_type": "execute_result"
    }
   ],
   "source": [
    "features"
   ]
  },
  {
   "cell_type": "code",
   "execution_count": 139,
   "metadata": {},
   "outputs": [
    {
     "data": {
      "text/plain": [
       "[{'Brand': 'Crucial'},\n",
       " {'Computer Memory Size': '8 GB'},\n",
       " {'RAM Memory Technology': 'DDR4'},\n",
       " {'Memory Speed': '3200 MHz'},\n",
       " {'Compatible Devices': 'Laptop'}]"
      ]
     },
     "execution_count": 139,
     "metadata": {},
     "output_type": "execute_result"
    }
   ],
   "source": [
    "table"
   ]
  },
  {
   "cell_type": "code",
   "execution_count": null,
   "metadata": {},
   "outputs": [],
   "source": []
  }
 ],
 "metadata": {
  "kernelspec": {
   "display_name": "default",
   "language": "python",
   "name": "python3"
  },
  "language_info": {
   "codemirror_mode": {
    "name": "ipython",
    "version": 3
   },
   "file_extension": ".py",
   "mimetype": "text/x-python",
   "name": "python",
   "nbconvert_exporter": "python",
   "pygments_lexer": "ipython3",
   "version": "3.10.12"
  },
  "orig_nbformat": 4
 },
 "nbformat": 4,
 "nbformat_minor": 2
}
