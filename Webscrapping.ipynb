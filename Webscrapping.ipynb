{
  "cells": [
    {
      "cell_type": "code",
      "execution_count": 1,
      "metadata": {
        "id": "8jXzWR5RtA-O"
      },
      "outputs": [],
      "source": [
        "from bs4 import BeautifulSoup\n",
        "import requests\n",
        "import smtplib\n",
        "import time\n",
        "import datetime"
      ]
    },
    {
      "cell_type": "code",
      "execution_count": 2,
      "metadata": {
        "colab": {
          "base_uri": "https://localhost:8080/"
        },
        "id": "K0n37r8Pmnvu",
        "outputId": "f55e85c3-2c97-47b8-9ef2-67402c015025"
      },
      "outputs": [
        {
          "name": "stdout",
          "output_type": "stream",
          "text": [
            "Apple iPhone 14 (128 GB) - Blue\n",
            "4.5\n",
            "              \n",
            "\n",
            "\n",
            "                4.5 out of 5 stars\n",
            "               \n",
            "\n",
            "\n",
            "\n",
            "\n",
            "\n",
            "\n",
            "\n",
            "\n",
            "\n",
            "\n",
            "\n",
            "\n",
            "\n",
            "\n",
            "             3,453 ratings\n"
          ]
        }
      ],
      "source": [
        "URL = \"https://www.amazon.in/Apple-iPhone-14-128GB-Blue/dp/B0BDK62PDX/ref=sr_1_1_sspa?crid=WO80OYG4IAW5&keywords=iphone%2B13&qid=1695816535&sprefix=iphone%2B1%2Caps%2C191&sr=8-1-spons&sp_csd=d2lkZ2V0TmFtZT1zcF9hdGY&psc=1\"\n",
        "headers = {\"User-Agent\": \"Mozilla/5.0 (Windows NT 10.0; Win64; x64) AppleWebKit/537.36 (KHTML, like Gecko) Chrome/117.0.0.0 Safari/537.36\",\"Accept\": \"text/html,application/xhtml+xml,application/xml;q=0.9,image/avif,image/webp,image/apng,*/*;q=0.8,application/signed-exchange;v=b3;q=0.7\",\n",
        "\"Accept-Encoding\": \"gzip, deflate, br\"}\n",
        "page = requests.get(URL, headers = headers)\n",
        "soup1 = BeautifulSoup(page.content,\"html.parser\")\n",
        "soup2 = BeautifulSoup(soup1.prettify(),\"html.parser\")\n",
        "title = soup2.find(id=\"productTitle\").get_text().strip()\n",
        "reviews = soup2.find(id=\"averageCustomerReviews\").get_text().strip()\n",
        "# price = soup2.find_all(\"span\",attrs={'class':'a-price-whole'})\n",
        "print(title)\n",
        "print(reviews)"
      ]
    },
    {
      "cell_type": "code",
      "execution_count": null,
      "metadata": {
        "id": "lVzKChx6mzCU"
      },
      "outputs": [],
      "source": []
    }
  ],
  "metadata": {
    "accelerator": "GPU",
    "colab": {
      "gpuType": "T4",
      "provenance": []
    },
    "kernelspec": {
      "display_name": "Python 3",
      "name": "python3"
    },
    "language_info": {
      "codemirror_mode": {
        "name": "ipython",
        "version": 3
      },
      "file_extension": ".py",
      "mimetype": "text/x-python",
      "name": "python",
      "nbconvert_exporter": "python",
      "pygments_lexer": "ipython3",
      "version": "3.10.12"
    }
  },
  "nbformat": 4,
  "nbformat_minor": 0
}
