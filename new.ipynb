{
 "cells": [
  {
   "cell_type": "code",
   "execution_count": null,
   "metadata": {},
   "outputs": [],
   "source": [
    "import requests\n",
    "from bs4 import BeautifulSoup\n",
    "import re"
   ]
  },
  {
   "cell_type": "code",
   "execution_count": null,
   "metadata": {},
   "outputs": [],
   "source": [
    "url =\"\"\"https://www.amazon.in/Crucial-3200MHz-2933MHz-2666MHz-CT8G4SFRA32A/dp/B08C4Z69LN/?_encoding=UTF8&pd_rd_w=asRZX&content-id=amzn1.sym.aff93425-4e25-4d86-babd-0fa9faf7ca5d%3Aamzn1.symc.36bd837a-d66d-47d1-8457-ffe9a9f3ddab&pf_rd_p=aff93425-4e25-4d86-babd-0fa9faf7ca5d&pf_rd_r=3S93CHJY45SQRCD4R7DC&pd_rd_wg=d59M2&pd_rd_r=ae6fcfa5-1b50-4c83-a0ee-f2a9eb1e8361&ref_=pd_gw_ci_mcx_mr_hp_atf_m&th=1\"\"\"\n",
    "headers = {\"User-Agent\": \"Mozilla/5.0 (Windows NT 10.0; Win64; x64) AppleWebKit/537.36 (KHTML, like Gecko) Chrome/117.0.0.0 Safari/537.36\",\"Accept\": \"text/html,application/xhtml+xml,application/xml;q=0.9,image/avif,image/webp,image/apng,*/*;q=0.8,application/signed-exchange;v=b3;q=0.7\",\n",
    "\"Accept-Encoding\": \"gzip, deflate, br\"}\n",
    "# get url result html code here \n",
    "page = requests.get(url, headers=headers)\n",
    "\n",
    "# testing demo site here\n",
    "# page = open('index.html', 'r')\n",
    "\n",
    "# display the data\n",
    "print(page.content)"
   ]
  },
  {
   "cell_type": "code",
   "execution_count": null,
   "metadata": {},
   "outputs": [],
   "source": [
    "soup = BeautifulSoup(page.content, 'html.parser')\n",
    "# soup = BeautifulSoup(page.read(), 'html.parser')\n",
    "frog = soup.text\n",
    "\n",
    "# get all the product details here\n",
    "\n",
    "# title here\n",
    "title = soup.find('span', id=\"productTitle\").text\n",
    "title = re.sub(r'\\s+',\" \",title)\n",
    "\n",
    "# For price\n",
    "price = str(soup.find(\"span\", class_='a-price-whole').text).replace(\".\", \"\")\n",
    "\n",
    "# Features here\n",
    "list_ =  soup.find(\"div\", id=\"feature-bullets\").find_all('li')\n",
    "features = [i.text for i in list_]\n",
    "\n",
    "# Function to generate Table Data (Info List)\n",
    "def getTablesToObj():\n",
    "    obj_table = []\n",
    "    table = soup.find('table', class_=\"a-normal a-spacing-micro\")\n",
    "    rows = table.find_all(\"tr\")\n",
    "\n",
    "    for row in rows:\n",
    "        key = row.find_all(\"span\")[0].text\n",
    "        value = row.find_all(\"span\")[1].text\n",
    "\n",
    "        obj = {\n",
    "            key : value\n",
    "        }\n",
    "\n",
    "        obj_table.append(obj)\n",
    "    return obj_table\n",
    "\n",
    "\n",
    "# Function to generate frequently brought together \n",
    "def getFrequentlyBroughtTogetherListObj():\n",
    "    frequently_bought_together = soup.find('div', id='similarities_feature_div')\n",
    "    fbt_titles = frequently_bought_together.select(\"span[class='a-size-base']\")\n",
    "    fbt_prices = frequently_bought_together.select(\"span[class='a-price-whole']\")\n",
    "\n",
    "    fbt_list = []\n",
    "\n",
    "    for i in range(0, len(fbt_prices)):\n",
    "        obj = {\n",
    "            fbt_titles[i].text : fbt_prices[i].text.replace(\".\",\"\")\n",
    "        }\n",
    "\n",
    "        fbt_list.append(obj)\n",
    "\n",
    "    return fbt_list\n",
    "\n",
    "\n",
    "# Get your table into object list here\n",
    "table = getTablesToObj()\n",
    "\n",
    "frequently_bought_together = getFrequentlyBroughtTogetherListObj()"
   ]
  },
  {
   "cell_type": "code",
   "execution_count": null,
   "metadata": {},
   "outputs": [],
   "source": [
    "title"
   ]
  },
  {
   "cell_type": "code",
   "execution_count": null,
   "metadata": {},
   "outputs": [],
   "source": [
    "price"
   ]
  },
  {
   "cell_type": "code",
   "execution_count": null,
   "metadata": {},
   "outputs": [],
   "source": [
    "features"
   ]
  },
  {
   "cell_type": "code",
   "execution_count": null,
   "metadata": {},
   "outputs": [],
   "source": [
    "table"
   ]
  },
  {
   "cell_type": "code",
   "execution_count": null,
   "metadata": {},
   "outputs": [],
   "source": [
    "def getFrequentlyBroughtTogetherListObj():\n",
    "    frequently_bought_together = soup.find('div', id='similarities_feature_div')\n",
    "    fbt_titles = frequently_bought_together.select(\"span[class='a-size-base']\")\n",
    "    fbt_prices = frequently_bought_together.select(\"span[class='a-price-whole']\")\n",
    "\n",
    "    fbt_list = []\n",
    "\n",
    "    for i in range(0, len(fbt_prices)):\n",
    "        obj = {\n",
    "            fbt_titles[i].text : fbt_prices[i].text.replace(\".\",\"\")\n",
    "        }\n",
    "\n",
    "        fbt_list.append(obj)\n",
    "\n",
    "    return fbt_list"
   ]
  },
  {
   "cell_type": "code",
   "execution_count": null,
   "metadata": {},
   "outputs": [],
   "source": []
  },
  {
   "cell_type": "code",
   "execution_count": null,
   "metadata": {},
   "outputs": [],
   "source": []
  }
 ],
 "metadata": {
  "kernelspec": {
   "display_name": "default",
   "language": "python",
   "name": "python3"
  },
  "language_info": {
   "codemirror_mode": {
    "name": "ipython",
    "version": 3
   },
   "file_extension": ".py",
   "mimetype": "text/x-python",
   "name": "python",
   "nbconvert_exporter": "python",
   "pygments_lexer": "ipython3",
   "version": "3.12.0"
  },
  "orig_nbformat": 4
 },
 "nbformat": 4,
 "nbformat_minor": 2
}
